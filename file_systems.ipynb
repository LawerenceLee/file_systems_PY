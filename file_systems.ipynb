{
 "cells": [
  {
   "cell_type": "markdown",
   "metadata": {},
   "source": [
    "# Python for File Systems\n",
    "* [Python `os` module](https://docs.python.org/3/library/os.html)\n",
    "\n",
    "***\n",
    "\n",
    "## Executing Bash like commands with Python\n",
    "\n",
    "### The `pwd` of Python's OS Module\n",
    "* __`os.getcwd()`__ : Gets the Current Working Directory."
   ]
  },
  {
   "cell_type": "code",
   "execution_count": 2,
   "metadata": {},
   "outputs": [
    {
     "data": {
      "text/plain": [
       "'/Users/lawerencelee/py_tech_degree/file_systems'"
      ]
     },
     "execution_count": 2,
     "metadata": {},
     "output_type": "execute_result"
    }
   ],
   "source": [
    "import os\n",
    "os.getcwd()"
   ]
  },
  {
   "cell_type": "markdown",
   "metadata": {},
   "source": [
    "#### The `cd` of Python's OS Module\n",
    "* __`os.chdir('<path/to/file>')`__ : Changes directories based on the argument it is porvided."
   ]
  },
  {
   "cell_type": "code",
   "execution_count": 3,
   "metadata": {},
   "outputs": [
    {
     "data": {
      "text/plain": [
       "'/Users/lawerencelee/py_tech_degree'"
      ]
     },
     "execution_count": 3,
     "metadata": {},
     "output_type": "execute_result"
    }
   ],
   "source": [
    "os.chdir('..')  # Jump back one directory\n",
    "os.getcwd()"
   ]
  },
  {
   "cell_type": "code",
   "execution_count": 4,
   "metadata": {},
   "outputs": [
    {
     "data": {
      "text/plain": [
       "'/Users/lawerencelee'"
      ]
     },
     "execution_count": 4,
     "metadata": {},
     "output_type": "execute_result"
    }
   ],
   "source": [
    "os.chdir('/Users/lawerencelee')  # Go to my home directory\n",
    "os.getcwd()"
   ]
  },
  {
   "cell_type": "markdown",
   "metadata": {},
   "source": [
    "#### Checking if a Path is absolute or relative\n",
    "* __`os.path.isabs(\"<path/to/file>\")`__ : Returns True or False if path is Absolute or not."
   ]
  },
  {
   "cell_type": "code",
   "execution_count": 5,
   "metadata": {},
   "outputs": [
    {
     "data": {
      "text/plain": [
       "True"
      ]
     },
     "execution_count": 5,
     "metadata": {},
     "output_type": "execute_result"
    }
   ],
   "source": [
    "os.path.isabs('/Users/lawerencelee/')"
   ]
  },
  {
   "cell_type": "code",
   "execution_count": 9,
   "metadata": {},
   "outputs": [
    {
     "data": {
      "text/plain": [
       "True"
      ]
     },
     "execution_count": 9,
     "metadata": {},
     "output_type": "execute_result"
    }
   ],
   "source": [
    "os.path.isabs('/lawerencelee/')  # Checks syntax not if path is real or not."
   ]
  },
  {
   "cell_type": "code",
   "execution_count": 10,
   "metadata": {},
   "outputs": [
    {
     "data": {
      "text/plain": [
       "False"
      ]
     },
     "execution_count": 10,
     "metadata": {},
     "output_type": "execute_result"
    }
   ],
   "source": [
    "os.path.isabs('./lawerencelee/')"
   ]
  },
  {
   "cell_type": "markdown",
   "metadata": {},
   "source": [
    "## Code Challenge\n",
    "* Now I need you to write a function named absolute that takes two arguments, a path string and a root string. If the path is not already absolute, return the path with the root prepended to it. For example: absolute(\"projects/python_basics/\", \"/\") would return \"/projects/python_basics/\" while absolute(\"/home/kenneth/django\", \"C:\\\") would return \"/home/kenneth/django\".\n",
    "\n",
    "```python\n",
    "import os\n",
    "\n",
    "def absolute(path, root):\n",
    "    if os.path.isabs(path):\n",
    "        return path\n",
    "    else:\n",
    "        return root + path\n",
    "```"
   ]
  },
  {
   "cell_type": "markdown",
   "metadata": {},
   "source": [
    "## Creating Paths\n",
    "#### Python Documentation\n",
    "* [Pathlib](https://docs.python.org/3/library/pathlib.html)\n",
    "* [Pure Path](https://docs.python.org/3/library/pathlib.html#pure-paths)\n",
    "* [Concrete Path](https://docs.python.org/3/library/pathlib.html#concrete-paths)"
   ]
  },
  {
   "cell_type": "code",
   "execution_count": 22,
   "metadata": {},
   "outputs": [
    {
     "data": {
      "text/plain": [
       "'/Users/lawerencelee/py_tech_degree'"
      ]
     },
     "execution_count": 22,
     "metadata": {},
     "output_type": "execute_result"
    }
   ],
   "source": [
    "CURRENT_DIR = os.getcwd()\n",
    "os.path.join(CURRENT_DIR, 'py_tech_degree')"
   ]
  },
  {
   "cell_type": "code",
   "execution_count": 23,
   "metadata": {},
   "outputs": [
    {
     "data": {
      "text/plain": [
       "'/Users/lawerencelee/../fake_dir'"
      ]
     },
     "execution_count": 23,
     "metadata": {},
     "output_type": "execute_result"
    }
   ],
   "source": [
    "os.path.join(CURRENT_DIR, '..', 'fake_dir')  # Go back one directory and change to fake_dir"
   ]
  },
  {
   "cell_type": "code",
   "execution_count": 25,
   "metadata": {},
   "outputs": [
    {
     "data": {
      "text/plain": [
       "'/Users/lawerencelee/examples/tree/python'"
      ]
     },
     "execution_count": 25,
     "metadata": {},
     "output_type": "execute_result"
    }
   ],
   "source": [
    "os.path.join(CURRENT_DIR, \"examples/tree\", \"python\")"
   ]
  },
  {
   "cell_type": "markdown",
   "metadata": {},
   "source": [
    "#### Pathlib\n",
    "This module offers classes representing filesystem paths with semantics appropriate for different operating systems. Path classes are divided between pure paths, which provide purely computational operations without I/O, and concrete paths, which inherit from pure paths but also provide I/O operations. \n",
    "\n",
    "-pathlib Docs"
   ]
  },
  {
   "cell_type": "code",
   "execution_count": 16,
   "metadata": {},
   "outputs": [
    {
     "data": {
      "text/plain": [
       "PurePosixPath('/Users/lawerencelee/examples/paths.txt')"
      ]
     },
     "execution_count": 16,
     "metadata": {},
     "output_type": "execute_result"
    }
   ],
   "source": [
    "import pathlib\n",
    "path = pathlib.PurePath(os.getcwd())  # Created an instance of the PurePath class\n",
    "path2 = path / 'examples' / 'paths.txt'  # The division operators in pathlib are used as seperators\n",
    "path2"
   ]
  },
  {
   "cell_type": "markdown",
   "metadata": {},
   "source": [
    "#### Tuple of each Directory in Path"
   ]
  },
  {
   "cell_type": "code",
   "execution_count": 17,
   "metadata": {},
   "outputs": [
    {
     "data": {
      "text/plain": [
       "('/', 'Users', 'lawerencelee', 'examples', 'paths.txt')"
      ]
     },
     "execution_count": 17,
     "metadata": {},
     "output_type": "execute_result"
    }
   ],
   "source": [
    "path2.parts"
   ]
  },
  {
   "cell_type": "markdown",
   "metadata": {},
   "source": [
    "#### Easily find the root of the file system (helpful if dealing with both Win and Posix)"
   ]
  },
  {
   "cell_type": "code",
   "execution_count": 18,
   "metadata": {},
   "outputs": [
    {
     "data": {
      "text/plain": [
       "'/'"
      ]
     },
     "execution_count": 18,
     "metadata": {},
     "output_type": "execute_result"
    }
   ],
   "source": [
    "path.root"
   ]
  },
  {
   "cell_type": "markdown",
   "metadata": {},
   "source": [
    "#### Grab a part of the path"
   ]
  },
  {
   "cell_type": "code",
   "execution_count": 19,
   "metadata": {},
   "outputs": [
    {
     "data": {
      "text/plain": [
       "PurePosixPath('/Users')"
      ]
     },
     "execution_count": 19,
     "metadata": {},
     "output_type": "execute_result"
    }
   ],
   "source": [
    "path2.parents[2]"
   ]
  },
  {
   "cell_type": "markdown",
   "metadata": {},
   "source": [
    "#### Get the name of the file at the end of the path"
   ]
  },
  {
   "cell_type": "code",
   "execution_count": 20,
   "metadata": {},
   "outputs": [
    {
     "data": {
      "text/plain": [
       "'paths.txt'"
      ]
     },
     "execution_count": 20,
     "metadata": {},
     "output_type": "execute_result"
    }
   ],
   "source": [
    "path2.name"
   ]
  },
  {
   "cell_type": "markdown",
   "metadata": {},
   "source": [
    "#### Easily grab the file type (could be used to sort items)"
   ]
  },
  {
   "cell_type": "code",
   "execution_count": 21,
   "metadata": {},
   "outputs": [
    {
     "data": {
      "text/plain": [
       "'.txt'"
      ]
     },
     "execution_count": 21,
     "metadata": {},
     "output_type": "execute_result"
    }
   ],
   "source": [
    "path2.suffix"
   ]
  },
  {
   "cell_type": "markdown",
   "metadata": {},
   "source": [
    "## Checking Directory Contents\n",
    "__`os.listdir`__ : List the contents of a directory, by default its the current working directory."
   ]
  },
  {
   "cell_type": "code",
   "execution_count": 26,
   "metadata": {},
   "outputs": [
    {
     "data": {
      "text/plain": [
       "['Music',\n",
       " 'python_materials',\n",
       " '.DS_Store',\n",
       " '.CFUserTextEncoding',\n",
       " 'Environments',\n",
       " 'Pictures',\n",
       " '.ipython',\n",
       " 'Desktop',\n",
       " 'Library',\n",
       " '.cups',\n",
       " '.bash_sessions',\n",
       " 'Public',\n",
       " 'py_tech_degree',\n",
       " 'rhewLab',\n",
       " 'Python-Data-Science-and-Machine-Learning-Bootcamp',\n",
       " 'Movies',\n",
       " 'zachs_writings',\n",
       " '.Trash',\n",
       " 'jupyter_tutorials',\n",
       " '.jupyter',\n",
       " 'Documents',\n",
       " 'my_py_scripts',\n",
       " '.vscode',\n",
       " '.bash_profile',\n",
       " 'Downloads',\n",
       " '.python_history',\n",
       " '.gitconfig',\n",
       " '.bash_history',\n",
       " '.viminfo']"
      ]
     },
     "execution_count": 26,
     "metadata": {},
     "output_type": "execute_result"
    }
   ],
   "source": [
    "os.listdir()"
   ]
  },
  {
   "cell_type": "markdown",
   "metadata": {},
   "source": [
    "__`list(os.scandir())`__ : Outputs a list of objects representing each of the child directories, and files in the specified directory (default=Current Working Directory). `os.scandir()` produces an iterable that can be consumed which is why `list` is needed."
   ]
  },
  {
   "cell_type": "code",
   "execution_count": 27,
   "metadata": {},
   "outputs": [
    {
     "data": {
      "text/plain": [
       "[<DirEntry 'Music'>,\n",
       " <DirEntry 'python_materials'>,\n",
       " <DirEntry '.DS_Store'>,\n",
       " <DirEntry '.CFUserTextEncoding'>,\n",
       " <DirEntry 'Environments'>,\n",
       " <DirEntry 'Pictures'>,\n",
       " <DirEntry '.ipython'>,\n",
       " <DirEntry 'Desktop'>,\n",
       " <DirEntry 'Library'>,\n",
       " <DirEntry '.cups'>,\n",
       " <DirEntry '.bash_sessions'>,\n",
       " <DirEntry 'Public'>,\n",
       " <DirEntry 'py_tech_degree'>,\n",
       " <DirEntry 'rhewLab'>,\n",
       " <DirEntry 'Python-Data-Science-and-Machine-Learning-Bootcamp'>,\n",
       " <DirEntry 'Movies'>,\n",
       " <DirEntry 'zachs_writings'>,\n",
       " <DirEntry '.Trash'>,\n",
       " <DirEntry 'jupyter_tutorials'>,\n",
       " <DirEntry '.jupyter'>,\n",
       " <DirEntry 'Documents'>,\n",
       " <DirEntry 'my_py_scripts'>,\n",
       " <DirEntry '.vscode'>,\n",
       " <DirEntry '.bash_profile'>,\n",
       " <DirEntry 'Downloads'>,\n",
       " <DirEntry '.python_history'>,\n",
       " <DirEntry '.gitconfig'>,\n",
       " <DirEntry '.bash_history'>,\n",
       " <DirEntry '.viminfo'>]"
      ]
     },
     "execution_count": 27,
     "metadata": {},
     "output_type": "execute_result"
    }
   ],
   "source": [
    "list(os.scandir())"
   ]
  },
  {
   "cell_type": "markdown",
   "metadata": {},
   "source": [
    "#### Grab name of a file or directory"
   ]
  },
  {
   "cell_type": "code",
   "execution_count": 30,
   "metadata": {},
   "outputs": [
    {
     "data": {
      "text/plain": [
       "'Environments'"
      ]
     },
     "execution_count": 30,
     "metadata": {},
     "output_type": "execute_result"
    }
   ],
   "source": [
    "files = list(os.scandir())\n",
    "files[4].name"
   ]
  },
  {
   "cell_type": "markdown",
   "metadata": {},
   "source": [
    "#### Check if an object is a file"
   ]
  },
  {
   "cell_type": "code",
   "execution_count": 31,
   "metadata": {},
   "outputs": [
    {
     "data": {
      "text/plain": [
       "False"
      ]
     },
     "execution_count": 31,
     "metadata": {},
     "output_type": "execute_result"
    }
   ],
   "source": [
    "files[4].is_file()"
   ]
  },
  {
   "cell_type": "markdown",
   "metadata": {},
   "source": [
    "#### Grab stats on particular files or directories\n",
    "* The `st_size` attribute could be useful in flagging files over a certain byte size."
   ]
  },
  {
   "cell_type": "code",
   "execution_count": 32,
   "metadata": {},
   "outputs": [
    {
     "data": {
      "text/plain": [
       "os.stat_result(st_mode=16877, st_ino=985677, st_dev=16777220, st_nlink=3, st_uid=501, st_gid=20, st_size=96, st_atime=1507788073, st_mtime=1507404626, st_ctime=1507404626)"
      ]
     },
     "execution_count": 32,
     "metadata": {},
     "output_type": "execute_result"
    }
   ],
   "source": [
    "files[4].stat()"
   ]
  },
  {
   "cell_type": "markdown",
   "metadata": {},
   "source": [
    "#### Without a context manager or using `open`, it best that you close out what your working on"
   ]
  },
  {
   "cell_type": "code",
   "execution_count": 35,
   "metadata": {},
   "outputs": [],
   "source": [
    "scanner = os.scandir()  # Notice were not using a LIST here!!!\n",
    "scanner.close()"
   ]
  },
  {
   "cell_type": "markdown",
   "metadata": {},
   "source": [
    "#### Another example with Scandir"
   ]
  },
  {
   "cell_type": "code",
   "execution_count": null,
   "metadata": {},
   "outputs": [],
   "source": [
    "with os.scandir(path) as it:\n",
    "    for entry in it:\n",
    "        if not entry.name.startswith('.') and entry.is_file():\n",
    "            print(entry.name)"
   ]
  },
  {
   "cell_type": "markdown",
   "metadata": {},
   "source": [
    "## Exploring a File Tree"
   ]
  },
  {
   "cell_type": "code",
   "execution_count": 39,
   "metadata": {},
   "outputs": [
    {
     "name": "stdout",
     "output_type": "stream",
     "text": [
      "zachs_writings consumes 1245 bytes in 1 non-directory files\n",
      "zachs_writings/.ipynb_checkpoints consumes 1105 bytes in 1 non-directory files\n",
      "zachs_writings contains 2 files with a combined size of 2350 bytes\n"
     ]
    }
   ],
   "source": [
    "import os\n",
    "\n",
    "def treewalker(start):\n",
    "    total_size = 0\n",
    "    total_files = 0\n",
    "    \n",
    "    for root, dirs, files in os.walk(start):\n",
    "        subtotal = sum (\n",
    "            os.path.getsize(os.path.join(root, name)) for name in files\n",
    "        )\n",
    "        total_size += subtotal\n",
    "        file_count = len(files)\n",
    "        total_files += file_count\n",
    "        print(root, \"consumes\", end=\" \")\n",
    "        print(subtotal, end=\" \")\n",
    "        print('bytes in', file_count, 'non-directory files')\n",
    "    print(start, \"contains\", total_files, \"files with a combined size of\", total_size, \"bytes\")\n",
    "    \n",
    "treewalker('zachs_writings')"
   ]
  },
  {
   "cell_type": "markdown",
   "metadata": {},
   "source": [
    "## Code Challenge\n",
    "* Create a function named dir_contains takes a path to a directory and a list of file names. If all of the file names exist within that directory, return True, otherwise, return False.\n",
    "\n",
    "```python\n",
    "import os\n",
    "\n",
    "\n",
    "def dir_contains(path, file_list):\n",
    "    dir_contents = os.listdir(path)\n",
    "    \n",
    "    for item in dir_contents:\n",
    "        if item not in file_list:\n",
    "            return False\n",
    "\n",
    "    return True\n",
    "```"
   ]
  },
  {
   "cell_type": "markdown",
   "metadata": {},
   "source": [
    "## Creating Files and Directories\n",
    "__`os.path.exists('<name/of/file>')`__ : Checks if a path already exist"
   ]
  },
  {
   "cell_type": "code",
   "execution_count": 40,
   "metadata": {},
   "outputs": [
    {
     "data": {
      "text/plain": [
       "False"
      ]
     },
     "execution_count": 40,
     "metadata": {},
     "output_type": "execute_result"
    }
   ],
   "source": [
    "os.path.exists('rogers')"
   ]
  },
  {
   "cell_type": "code",
   "execution_count": 41,
   "metadata": {},
   "outputs": [
    {
     "data": {
      "text/plain": [
       "True"
      ]
     },
     "execution_count": 41,
     "metadata": {},
     "output_type": "execute_result"
    }
   ],
   "source": [
    "os.path.exists('/Users/lawerencelee')"
   ]
  },
  {
   "cell_type": "markdown",
   "metadata": {},
   "source": [
    "#### To create a file NOT ON MAC OSX use:\n",
    "__`os.mknod('<path/to/file>')`__"
   ]
  },
  {
   "cell_type": "markdown",
   "metadata": {},
   "source": [
    "#### To create a single directory:\n",
    "__`os.mkdir('<name>')`__"
   ]
  },
  {
   "cell_type": "markdown",
   "metadata": {},
   "source": [
    "#### To create multiple directories:\n",
    "__`os.makedirs('<dir1/dir2/dir3>')`__ - YES THAT'S `MAKEDIRS`\n",
    "\n",
    "You can tack on the `exists_ok=True` argument if you'd like python to ignore the error thrown if directory/ies already exist. Python doesn't try to recreate them, but just moves on and ignores the error."
   ]
  },
  {
   "cell_type": "markdown",
   "metadata": {},
   "source": [
    "## Code Challenge\n",
    "* Create a function named create_daily_dir in backup.py. \n",
    "    * This function should take a string which will be a date in either year-month-day (2012-12-22) or month-day-year (12-22-2012) format. \n",
    "* Use that to create a directory like 2012-12-22 (year-month-day) in the financial directory (which is in the current directory).\n",
    "    * This means that by calling create_daily_dir(\"04-22-2017\"), we'd have a directory structure like financial/2017-04-22/.\n",
    "\n",
    "```python\n",
    "import os\n",
    "import re\n",
    "\n",
    "def create_daily_dir(date):\n",
    "    if re.findall(r'/d{2}-/d{2}-/d{4}', date):\n",
    "        day = date[3:5]\n",
    "        month = date[:2]\n",
    "        year = date[-4:]\n",
    "        date = \"{}-{}-{}\".format(year, month, day)\n",
    "    path = os.path.join(os.getcwd(), 'financial', date)\n",
    "    os.mkdir(path)\n",
    "```"
   ]
  },
  {
   "cell_type": "markdown",
   "metadata": {},
   "source": [
    "## Renaming Files and Directories\n",
    "* [os.rename](https://docs.python.org/3/library/os.html#os.rename)- Changes the name of one item.\n",
    "    * __`os.rename('old_file', 'new_name')`__ - Example: `os.rename('child_1', 'child_one')`\n",
    "    * Be sure to include the preceeding directory if working with files or use `os.renames`\n",
    "    * Otherwise: `os.rename('DELETED.txt', 'child_two/')` --> `FileNotFoundError: [Errno 2] No such file or directory: 'DELETED.txt' -> 'child_two/'`\n",
    "\n",
    "\n",
    "* [os.renames](https://docs.python.org/3/library/os.html#os.renames)\n",
    "    * __`os.renames('child_one/', 'new_dir/child_dir')`__\n",
    "    \n",
    "\n",
    "* __`os.replace('old_file', 'new_file')`__\n",
    "    * This function can take care of the some of the cross-platform issues that crop up from time to time in regards to rename/s.\n",
    "    * However, it does not delete the old file as rename/s does!\n",
    "    \n",
    "## Code Challenge\n",
    "* Finish the function named cleanup in consistency.py. This function should take a string which will be a path to a local directory. The file names in this directory are messy. I need you to clean them up so they all follow the same pattern. Examples and further explanation are in the comments in the file below.\n",
    "\n",
    "```python\n",
    "import os\n",
    "import re\n",
    "\n",
    "# Filenames consist of a username (alphanumeric, 3-12 characters)\n",
    "# and a date (four digit year, two digit month, two digit day),\n",
    "# and an extension. They should end up in the format\n",
    "# year-month-day-username.extension.\n",
    "\n",
    "# Example: kennethlove2-2012-04-29.txt becomes 2012-04-29-kennethlove2.txt\n",
    "\n",
    "def cleanup(path):\n",
    "    for file in os.listdir(path):\n",
    "        if re.search(r'\\d{4}-\\d{2}-\\d{2}-[a-zA-Z0-9]{3,12}(.\\w+)', file) is None:\n",
    "            name = re.search(r'[a-zA-Z0-9]{3,12}', file).group()\n",
    "            date = re.search(r'\\d{4}-\\d{2}-\\d{2}', file).group()\n",
    "            ext = re.search(r'\\.\\w+', file).group()\n",
    "            new_name = '{}/{}-{}{}'.format(path, date, name, ext)\n",
    "            \n",
    "            os.replace(os.path.join(path, file) , new_name)\n",
    "```"
   ]
  },
  {
   "cell_type": "code",
   "execution_count": 56,
   "metadata": {},
   "outputs": [],
   "source": [
    "# files = ['2012-04-29-kennethlove2.txt', 'kennethlove2-2012-04-29.txt', \n",
    "#            'philip34king-1312-12-05.zip', 'osk18ear55-2354-12-08']\n",
    "# for file in files:\n",
    "#     os.system('touch {}'.format(file))"
   ]
  },
  {
   "cell_type": "markdown",
   "metadata": {},
   "source": [
    "## Deleting Files and Directories\n",
    "* __`os.remove('<path/to/file>')`__ : ONLY deletes files, NOT directories.\n",
    "* __`os.rmdir('<path/to/dir>')`__ or __`os.rmdirs('<path/to/dir>')`__ : Deletes directories if they are EMPTY\n",
    "\n",
    "Example:\n",
    "```python\n",
    "for thing in os.scandir('bootstrap/js'):\n",
    "    if thing.is_file():\n",
    "        os.remove(thing.path)\n",
    "os.rmdir('bootstrap/js')\n",
    "```\n",
    "\n",
    "### Sending to trash rather than deleting\n",
    "* To install: `pip install send2trash`\n",
    "* importing with python: `from send2trash import send2trash`\n",
    "* To use: `send2trash('<filename>')`\n",
    "\n",
    "## Code Challenge\n",
    "* Make a function named delete_by_date. It should take date string like 2015-10-31 and delete any files in the \"backups\" local directory that have that date in their filename. Just like the last challenge, the files will be named in the format \"year-month-day-username.extension\".\n",
    "* Now create a second function named delete_by_user that works similarly but deletes files that have a particular username in their filename.\n",
    "\n",
    "```python\n",
    "import os\n",
    "\n",
    "def delete_by_date(date):\n",
    "    for thing in os.listdir('backups/'):\n",
    "        if date in thing:\n",
    "            os.remove('backups/{}'.format(thing))\n",
    "            \n",
    "\n",
    "def delete_by_user(user):\n",
    "    for thing in os.listdir('backups/'):\n",
    "        if user in thing:\n",
    "            os.remove('backups/{}'.format(thing))\n",
    "```\n",
    "\n",
    "## Temporary Files and Directories\n",
    "* [tempfile](https://docs.python.org/3/library/tempfile.html)\n",
    "\n",
    "### Temporary Directorys\n",
    "In the following example:\n",
    "* Creating a temporary file\n",
    "* Creating a text file, and writing to it.\n",
    "* After we press enter, the file and directory both disappear.\n",
    "* _This won't work on Windows_\n",
    "\n",
    "```python\n",
    "import os\n",
    "import tempfile\n",
    "\n",
    "\n",
    "with tempfile.TemporaryDirectory() as tmpdirname:\n",
    "    print(\"Created temporary directory named {}\".format(tmpdirname))\n",
    "    with open(os.path.join(tmpdirname, 'temp_file.txt'), 'w') as f:\n",
    "        f.write('hello Nurse\\n')\n",
    "    input()\n",
    "```    \n",
    "\n",
    "### Temporary Files\n",
    "\n",
    "##### Works as long as you don't need to know where the files are stored.\n",
    "\n",
    "```python\n",
    "import os\n",
    "import tempfile\n",
    "\n",
    "with tempfile.TemporaryFile() as tmpfile:\n",
    "    tmpfile.write(b\"hello\\n\")\n",
    "    tmpfile.seek(0)\n",
    "    tmpfile.read()\n",
    "input()  \n",
    "```\n",
    "\n",
    "##### This would also work and suffer from the same issue as the above example.\n",
    "```python\n",
    ">>> fp = tempfile.TemporaryFile()\n",
    ">>> fp.write(b'bello\\n')\n",
    "6\n",
    ">>> fp.close()  # When you were ready to close, then you would type this.\n",
    "```\n",
    "\n",
    "##### If you need to get the filename:\n",
    "```python\n",
    ">>> fp = tempfile.NamedTemporaryFile()\n",
    ">>> fp.name\n",
    "/var/folders/23/5kd5460x3qj3dfnw2htwqlxc0000gn/T/tmp1260n_bg\n",
    ">>> fp.close()\n",
    "```"
   ]
  },
  {
   "cell_type": "markdown",
   "metadata": {},
   "source": [
    "### Flask Skeleton Builder:\n",
    "```python\n",
    "from distutils.util import strtobool\n",
    "import os\n",
    "import pathlib\n",
    "import re\n",
    "import unicodedata\n",
    "import sys\n",
    "\n",
    "DIRS = [\n",
    "    '{project_slug}/',\n",
    "    '{project_slug}/static/',\n",
    "    '{project_slug}/static/img/',\n",
    "    '{project_slug}/static/js',\n",
    "    '{project_slug}/static/css',\n",
    "    '{project_slug}/templates/',\n",
    "]\n",
    "\n",
    "FILES = {\n",
    "    '{project_slug}/requirements.txt': 'requirements.txt.template',\n",
    "    '{project_slug}/app.py': 'app.py.template',\n",
    "    '{project_slug}/static/css/{project_slug}.css': 'project.css.template',\n",
    "    '{project_slug}/static/js/{project_slug}.js': 'project.js.template',\n",
    "    '{project_slug}/templates/index.html': 'index.html.template'\n",
    "}\n",
    "\n",
    "\n",
    "def flask_template_prepair(string):\n",
    "    string = re.sub(r'\\{\\%', '<%', string)\n",
    "    string = re.sub(r'\\%\\}', '%>', string)\n",
    "    string = re.sub(r'\\{\\{', '<<', string)\n",
    "    string = re.sub(r'\\}\\}', '>>', string)\n",
    "    return string\n",
    "\n",
    "\n",
    "def flask_template_repair(string):\n",
    "    string = re.sub(r'\\<\\%', '{%', string)\n",
    "    string = re.sub(r'\\%\\>', '%}', string)\n",
    "    string = re.sub(r'\\<\\<', '{{', string)\n",
    "    string = re.sub(r'\\>\\>', '}}', string)\n",
    "    return string\n",
    "\n",
    "\n",
    "def slugify(string):\n",
    "    string = unicodedata.normalize('NFKC', string)\n",
    "    string = re.sub(r'[^\\w\\s]', '', string).strip().lower()\n",
    "    return re.sub(r'[_\\-\\s]+', '_', string)\n",
    "\n",
    "\n",
    "def get_root():\n",
    "    root = pathlib.PurePath(\n",
    "        input(\"What's the full path where you'd like the project? \")\n",
    "    )\n",
    "    if not root.is_absolute():\n",
    "        return get_root()\n",
    "    return root\n",
    "\n",
    "\n",
    "def check_delete_root(root):\n",
    "    if os.path.exists(root):\n",
    "        print(\"Path already exists!\")\n",
    "        try:\n",
    "            delete = strtobool(input(\"Delete existing files/directories? [y/n] \").lower())\n",
    "        except ValueError:\n",
    "            return check_delete_root(root)\n",
    "        else:\n",
    "            if delete:\n",
    "                try:\n",
    "                    os.removedirs(root)\n",
    "                except OSError:\n",
    "                    print(\"Couldn't remove {}. Please delete it yourself.\".format(root))\n",
    "                else:\n",
    "                    print(\"Deleted {}\".format(root))\n",
    "\n",
    "\n",
    "def create_dirs(root, slug):\n",
    "    try:\n",
    "        os.makedirs(root)\n",
    "    except OSError:\n",
    "        print(\"Couldn't create root at {}.\".format(root))\n",
    "        sys.exit()\n",
    "    else:\n",
    "        for dir in DIRS:\n",
    "            try:\n",
    "                os.mkdir(os.path.join(root, dir.format(project_slug=slug)))\n",
    "            except FileExistsError:\n",
    "                pass\n",
    "\n",
    "\n",
    "def create_files(root, slug, name):\n",
    "    for file_name, template_name in FILES.items():\n",
    "        try:\n",
    "            template_file = open(os.path.join('templates', template_name))\n",
    "            file_content = template_file.read()\n",
    "            file_content = flask_template_prepair(file_content)\n",
    "            file_content = file_content.format(project_name=name, project_slug=slug)\n",
    "            file_content = flask_template_repair(file_content)\n",
    "\n",
    "            target_file = open(os.path.join(root, file_name.format(project_slug=slug)), 'w')\n",
    "            target_file.write(file_content)\n",
    "        except Exception as e:\n",
    "            print(e)\n",
    "        except OSError:\n",
    "            print(\"Couldn't create {}\".format(file_name.format(project_slug=slug)))\n",
    "        finally:\n",
    "            template_file.close()\n",
    "            target_file.close()\n",
    "\n",
    "\n",
    "def main():\n",
    "    project_root = get_root()\n",
    "    check_delete_root(project_root)\n",
    "    project_name = None\n",
    "    while not project_name:\n",
    "        project_name = input(\"What's the full name for the project? \")\n",
    "    project_slug = slugify(project_name)\n",
    "\n",
    "    create_dirs(project_root, project_slug)\n",
    "    create_files(project_root, project_slug, project_name)\n",
    "\n",
    "    print(\"Created {} in {}\\n\".format(project_name, project_root))\n",
    "\n",
    "\n",
    "if __name__ == \"__main__\":\n",
    "    os.system('cls' if os.name == 'nt' else 'clear')\n",
    "    main()\n",
    "```"
   ]
  },
  {
   "cell_type": "markdown",
   "metadata": {},
   "source": [
    "## Code Challenge\n",
    "* I'd like you to change how get_root works. I still want to ask for a path but if the path is relative, change it into an absolute path. You can assume that the path is relative from the current working directory. The function should always return an absolute path.\n",
    "\n",
    "```python\n",
    "import pathlib\n",
    "import os \n",
    "\n",
    "\n",
    "def get_root():\n",
    "    root = pathlib.PurePath(\n",
    "        input(\"What's the full path where you'd like the project? \")\n",
    "    )\n",
    "    if not root.is_absolute():\n",
    "        return '{}/{}'.format(os.getcwd(), root)\n",
    "    return root\n",
    "```"
   ]
  },
  {
   "cell_type": "markdown",
   "metadata": {},
   "source": [
    "## Code Challenge\n",
    "* This challenge is a bit different from others you've probably done, so try to approach it with an open, creative mind. I made a slugify function in the last video, but that is just one approach to making a slug. I want you to make your own slugify function in slug.py. Your function should accept a string to make into an acceptable file or directory name and a path. The rules? Slugs should be unique for their path (you can't have two files or directories with the same name in the same directory), slugs shouldn't have spaces in them, and slug should start with a number, letter, or underscore. Other than that, it's up to you!"
   ]
  },
  {
   "cell_type": "markdown",
   "metadata": {},
   "source": [
    "```python\n",
    "import os\n",
    "import re\n",
    "\n",
    "\n",
    "def slugify(slug, path): \n",
    "    dir_contents = os.listdir(path)\n",
    "    \n",
    "    slug = re.sub(r'[_\\-\\s]+', '_', slug)\n",
    "    if not re.search(r'[\\w\\d_]', slug[0]):\n",
    "        slug = '_{}'.format(slug)\n",
    "    \n",
    "    if slug in dir_contents:\n",
    "        if '.' in slug:\n",
    "            slug = slug.split('.')\n",
    "            slug = '{}_copy.{}'.format(split_slug[0], split_slug[1])\n",
    "        else:\n",
    "            slug = '{}_copy'.format(slug)\n",
    "        \n",
    "    return path + slug\n",
    "```"
   ]
  },
  {
   "cell_type": "code",
   "execution_count": null,
   "metadata": {},
   "outputs": [],
   "source": []
  }
 ],
 "metadata": {
  "kernelspec": {
   "display_name": "Python 3",
   "language": "python",
   "name": "python3"
  },
  "language_info": {
   "codemirror_mode": {
    "name": "ipython",
    "version": 3
   },
   "file_extension": ".py",
   "mimetype": "text/x-python",
   "name": "python",
   "nbconvert_exporter": "python",
   "pygments_lexer": "ipython3",
   "version": "3.6.3"
  }
 },
 "nbformat": 4,
 "nbformat_minor": 2
}
